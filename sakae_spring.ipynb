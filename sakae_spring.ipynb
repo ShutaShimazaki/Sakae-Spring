{
  "nbformat": 4,
  "nbformat_minor": 0,
  "metadata": {
    "colab": {
      "provenance": [],
      "mount_file_id": "17HEe1i7sOa6FMBCQ_zTA0VnNL0mTdiet",
      "authorship_tag": "ABX9TyPnHeeO5pU0vdaQxxynJ1Gt",
      "include_colab_link": true
    },
    "kernelspec": {
      "name": "python3",
      "display_name": "Python 3"
    },
    "language_info": {
      "name": "python"
    }
  },
  "cells": [
    {
      "cell_type": "markdown",
      "metadata": {
        "id": "view-in-github",
        "colab_type": "text"
      },
      "source": [
        "<a href=\"https://colab.research.google.com/github/ShutaShimazaki/Sakae-Spring/blob/master/sakae_spring.ipynb\" target=\"_parent\"><img src=\"https://colab.research.google.com/assets/colab-badge.svg\" alt=\"Open In Colab\"/></a>"
      ]
    },
    {
      "cell_type": "markdown",
      "source": [
        "# フェス参加アーティストのレーベル情報を取得する\n",
        "## 動作\n",
        "\n",
        "\n",
        "1.   フェスHPをスクレイピングし、アーティスト名とSpotifyリンク(artistID)を取得\n",
        "2.   artist id →API\"Get Artist'sAlbum\"から1album\n",
        "3.   API\"Get Album\"からlabels\n",
        "\n",
        "## Spotify APIについて\n",
        "\n",
        "\n",
        "*   準備：https://takagi.blog/get-and-refresh-access-tokens-for-the-spotify-web-api/\n",
        "\n",
        "*   トークン設定：\n",
        "  *   export SPOTIFY_CLIENT_ID='your_client_id_here'\n",
        "  *   export SPOTIFY_CLIENT_SECRET='your_client_secret_here'\n",
        "  *   export SPOTIFY_REFRESH_TOKEN='your_refresh_token_here'\n",
        "\n",
        "\n",
        "\n",
        "\n",
        "\n",
        "\n",
        "\n",
        "\n",
        "\n"
      ],
      "metadata": {
        "id": "lHinE097Y_kF"
      }
    },
    {
      "cell_type": "code",
      "execution_count": 7,
      "metadata": {
        "colab": {
          "base_uri": "https://localhost:8080/"
        },
        "id": "jlaqvyZbC2Tx",
        "outputId": "249f2a5d-f5b1-47fd-fbf6-31bddb0c152a"
      },
      "outputs": [
        {
          "output_type": "stream",
          "name": "stdout",
          "text": [
            "Requirement already satisfied: requests in /usr/local/lib/python3.10/dist-packages (2.31.0)\n",
            "Requirement already satisfied: beautifulsoup4 in /usr/local/lib/python3.10/dist-packages (4.12.3)\n",
            "Requirement already satisfied: charset-normalizer<4,>=2 in /usr/local/lib/python3.10/dist-packages (from requests) (3.3.2)\n",
            "Requirement already satisfied: idna<4,>=2.5 in /usr/local/lib/python3.10/dist-packages (from requests) (3.7)\n",
            "Requirement already satisfied: urllib3<3,>=1.21.1 in /usr/local/lib/python3.10/dist-packages (from requests) (2.0.7)\n",
            "Requirement already satisfied: certifi>=2017.4.17 in /usr/local/lib/python3.10/dist-packages (from requests) (2024.6.2)\n",
            "Requirement already satisfied: soupsieve>1.2 in /usr/local/lib/python3.10/dist-packages (from beautifulsoup4) (2.5)\n",
            "Requirement already satisfied: openpyxl in /usr/local/lib/python3.10/dist-packages (3.1.3)\n",
            "Requirement already satisfied: et-xmlfile in /usr/local/lib/python3.10/dist-packages (from openpyxl) (1.1.0)\n"
          ]
        }
      ],
      "source": [
        "!pip install requests beautifulsoup4\n",
        "!pip install openpyxl"
      ]
    },
    {
      "cell_type": "code",
      "source": [
        "# 関数インポート準備1: Google Driveをマウント\n",
        "from google.colab import drive\n",
        "drive.mount('/content/drive')"
      ],
      "metadata": {
        "colab": {
          "base_uri": "https://localhost:8080/"
        },
        "id": "MvZbhVpilAMX",
        "outputId": "90574b73-9407-4c21-9151-4cb944d071ca"
      },
      "execution_count": 8,
      "outputs": [
        {
          "output_type": "stream",
          "name": "stdout",
          "text": [
            "Drive already mounted at /content/drive; to attempt to forcibly remount, call drive.mount(\"/content/drive\", force_remount=True).\n"
          ]
        }
      ]
    },
    {
      "cell_type": "code",
      "source": [
        "# 前準備2: 現在のmodules.ipynbをmodules.pyに変換\n",
        "!jupyter nbconvert --to python '/content/drive/MyDrive/Colab Notebooks/modules/modules.ipynb'"
      ],
      "metadata": {
        "colab": {
          "base_uri": "https://localhost:8080/"
        },
        "id": "yFEaoTWhlLn9",
        "outputId": "f9e5d08c-27c7-419e-9af5-74d97455674f"
      },
      "execution_count": 9,
      "outputs": [
        {
          "output_type": "stream",
          "name": "stdout",
          "text": [
            "[NbConvertApp] Converting notebook /content/drive/MyDrive/Colab Notebooks/modules/modules.ipynb to python\n",
            "[NbConvertApp] Writing 2741 bytes to /content/drive/MyDrive/Colab Notebooks/modules/modules.py\n"
          ]
        }
      ]
    },
    {
      "cell_type": "code",
      "source": [
        "#前準備3\n",
        "#変換された.pyファイルをインポート\n",
        "import sys\n",
        "# 変換された.pyファイルがあるディレクトリをパスに追加\n",
        "sys.path.append('/content/drive/MyDrive/Colab Notebooks/modules')\n",
        "\n",
        "# modules.pyから関数をインポート\n",
        "from modules import is_label, is_famous_artist"
      ],
      "metadata": {
        "id": "XDXuZAwQlMKs"
      },
      "execution_count": 10,
      "outputs": []
    },
    {
      "cell_type": "code",
      "source": [
        "import os\n",
        "import time\n",
        "import requests\n",
        "import base64\n",
        "from google.colab import userdata\n",
        "import pandas as pd\n",
        "from bs4 import BeautifulSoup\n",
        "from openpyxl import Workbook\n",
        "from openpyxl.styles import Font\n",
        "from openpyxl.utils.dataframe import dataframe_to_rows\n",
        "\n",
        "# スクレイピング対象のURL\n",
        "base_url = 'https://sakaespring.com'\n",
        "url = f'{base_url}/lineup/6.1'\n",
        "\n",
        "# 環境変数から認証情報を取得\n",
        "CLIENT_ID = userdata.get('SPOTIFY_CLIENT_ID')\n",
        "CLIENT_SECRET = userdata.get('SPOTIFY_CLIENT_SECRET')\n",
        "REFRESH_TOKEN = userdata.get('SPOTIFY_REFRESH_TOKEN')\n",
        "\n",
        "def refresh_access_token(refresh_token, client_id, client_secret):\n",
        "    \"\"\"\n",
        "    refresh_tokenを使用して新しいaccess_tokenを取得する\n",
        "    \"\"\"\n",
        "    url = \"https://accounts.spotify.com/api/token\"\n",
        "    headers = {\n",
        "        \"Authorization\": \"Basic \" + base64.b64encode(f\"{client_id}:{client_secret}\".encode()).decode(),\n",
        "    }\n",
        "    data = {\n",
        "        \"grant_type\": \"refresh_token\",\n",
        "        \"refresh_token\": refresh_token,\n",
        "    }\n",
        "\n",
        "    response = requests.post(url, headers=headers, data=data)\n",
        "    response_data = response.json()\n",
        "\n",
        "    return response_data.get(\"access_token\")\n",
        "\n",
        "\n",
        "def fetch_artist_spotify_links(url):\n",
        "    session = requests.Session()\n",
        "    response = session.get(url)\n",
        "    response.raise_for_status()\n",
        "    soup = BeautifulSoup(response.text, 'html.parser')\n",
        "    artist_cards = soup.find_all('div', class_='fespli-card')\n",
        "    artist_info = []\n",
        "\n",
        "    for card in artist_cards:\n",
        "        artist_name = card.find('div', class_='fespli-card__title').text.strip()\n",
        "        detail_link = base_url + card.find('a', class_='fespli-card__link')['href']\n",
        "        detail_response = session.get(detail_link)\n",
        "        detail_soup = BeautifulSoup(detail_response.text, 'html.parser')\n",
        "\n",
        "        spotify_link_element = detail_soup.find('a', href=lambda href: href and \"https://open.spotify.com/artist/\" in href)\n",
        "        if spotify_link_element:\n",
        "            artist_spotify_link = spotify_link_element['href']\n",
        "            artist_info.append((artist_name, artist_spotify_link))\n",
        "\n",
        "    return artist_info\n",
        "\n",
        "def extract_spotify_id(spotify_link):\n",
        "    \"\"\"SpotifyリンクからSpotify IDを抽出する\"\"\"\n",
        "    if \"?\" in spotify_link:\n",
        "        return spotify_link.split('artist/')[1].split('?')[0]\n",
        "    else:\n",
        "        return spotify_link.split('artist/')[1]\n",
        "\n",
        "def get_latest_album_id(artist_id, access_token):\n",
        "    \"\"\"特定のアーティストの最新アルバムのSpotify IDを取得する\"\"\"\n",
        "    url = f'https://api.spotify.com/v1/artists/{artist_id}/albums'\n",
        "    headers = {\n",
        "        'Authorization': f'Bearer {access_token}'\n",
        "    }\n",
        "    params = {\n",
        "        'market': 'US',\n",
        "        'limit': 1  # 最新のアルバム（シングル）1つだけを取得\n",
        "    }\n",
        "\n",
        "    response = requests.get(url, headers=headers, params=params)\n",
        "    response.raise_for_status()  # エラー時に例外を発生させる\n",
        "\n",
        "    albums_data = response.json()\n",
        "    return albums_data['items'][0]['id']  # 最新のアルバムのIDを返す\n",
        "\n",
        "def get_album_label(album_id, access_token):\n",
        "    \"\"\"アルバムIDに基づいてアルバムのレーベル情報を取得する\"\"\"\n",
        "    url = f'https://api.spotify.com/v1/albums/{album_id}'\n",
        "    headers = {\n",
        "        'Authorization': f'Bearer {access_token}'\n",
        "    }\n",
        "\n",
        "    response = requests.get(url, headers=headers)\n",
        "    response.raise_for_status()  # エラー時に例外を発生させる\n",
        "\n",
        "    album_info = response.json()\n",
        "    return album_info['label']  # アルバムのレーベル情報を返す\n",
        "\n",
        "def main():\n",
        "    access_token = refresh_access_token(REFRESH_TOKEN, CLIENT_ID, CLIENT_SECRET)\n",
        "    artist_info = fetch_artist_spotify_links(url)\n",
        "    results = []  # 結果を保存するためのリスト\n",
        "\n",
        "    for artist_name, spotify_link in artist_info:\n",
        "        time.sleep(1)  # サーバーに負荷をかけない\n",
        "        artist_id = extract_spotify_id(spotify_link)\n",
        "        try:\n",
        "            album_id = get_latest_album_id(artist_id, access_token)\n",
        "            album_label = get_album_label(album_id, access_token)\n",
        "            is_in_label = \"Yes\" if is_label(album_label) else \"No\"\n",
        "        except Exception as e:\n",
        "            print(f\"Error processing artist {artist_name}: {e}\")\n",
        "            album_label = \"Error: Failed to fetch album info\"\n",
        "            is_in_label = \"Error\"\n",
        "\n",
        "        results.append([artist_name, album_label, is_in_label, spotify_link])\n",
        "\n",
        "    # pandas DataFrameを使用して結果を整理\n",
        "    df = pd.DataFrame(results, columns=['Artist Name', 'Album Label', 'Is In Label', 'Spotify Link'])\n",
        "    df_indie = df[df['Is In Label'] == \"No\"]  # \"Is In Label\"が\"No\"のデータのみ抽出\n",
        "\n",
        "    # 新規Workbookを作成し、全アーティスト情報を\"Artists\"シートに書き込む\n",
        "    wb = Workbook()\n",
        "    ws1 = wb.active\n",
        "    ws1.title = \"Artists\"\n",
        "    for r in dataframe_to_rows(df, index=False, header=True):\n",
        "        ws1.append(r)\n",
        "    for cell in ws1['D'][1:]:  # D列（Spotify Link）にハイパーリンクを設定\n",
        "        cell.hyperlink = cell.value\n",
        "        cell.value = \"Spotify Link\"\n",
        "        cell.font = Font(color='0000FF', underline='single')\n",
        "\n",
        "    # \"Indie Artists\"シートを作成し、インディーズアーティスト情報を書き込む\n",
        "    ws2 = wb.create_sheet(title=\"Indie Artists\")\n",
        "    for r in dataframe_to_rows(df_indie, index=False, header=True):\n",
        "        ws2.append(r)\n",
        "    for cell in ws2['D'][1:]:  # D列（Spotify Link）にハイパーリンクを設定\n",
        "        cell.hyperlink = cell.value\n",
        "        cell.value = \"Spotify Link\"\n",
        "        cell.font = Font(color='0000FF', underline='single')\n",
        "\n",
        "    # Excelファイルに保存\n",
        "    output_dir = \"./drive/MyDrive/New_artists/Excels/\"\n",
        "    wb.save(output_dir+'artists.xlsx')\n",
        "\n",
        "if __name__ == '__main__':\n",
        "    main()"
      ],
      "metadata": {
        "colab": {
          "base_uri": "https://localhost:8080/",
          "height": 315
        },
        "id": "q8AxXJsetXc0",
        "outputId": "1df74e32-7af8-4d3a-9baa-f7b4672fcb5a",
        "collapsed": true
      },
      "execution_count": 11,
      "outputs": [
        {
          "output_type": "stream",
          "name": "stdout",
          "text": [
            "Error processing artist Kaco: 404 Client Error: Not Found for url: https://api.spotify.com/v1/artists/5uWUJPAFWreFPks7f3wtMx//albums?market=US&limit=1\n"
          ]
        },
        {
          "output_type": "error",
          "ename": "KeyboardInterrupt",
          "evalue": "",
          "traceback": [
            "\u001b[0;31m---------------------------------------------------------------------------\u001b[0m",
            "\u001b[0;31mKeyboardInterrupt\u001b[0m                         Traceback (most recent call last)",
            "\u001b[0;32m<ipython-input-11-d5818e83e432>\u001b[0m in \u001b[0;36m<cell line: 145>\u001b[0;34m()\u001b[0m\n\u001b[1;32m    144\u001b[0m \u001b[0;34m\u001b[0m\u001b[0m\n\u001b[1;32m    145\u001b[0m \u001b[0;32mif\u001b[0m \u001b[0m__name__\u001b[0m \u001b[0;34m==\u001b[0m \u001b[0;34m'__main__'\u001b[0m\u001b[0;34m:\u001b[0m\u001b[0;34m\u001b[0m\u001b[0;34m\u001b[0m\u001b[0m\n\u001b[0;32m--> 146\u001b[0;31m     \u001b[0mmain\u001b[0m\u001b[0;34m(\u001b[0m\u001b[0;34m)\u001b[0m\u001b[0;34m\u001b[0m\u001b[0;34m\u001b[0m\u001b[0m\n\u001b[0m",
            "\u001b[0;32m<ipython-input-11-d5818e83e432>\u001b[0m in \u001b[0;36mmain\u001b[0;34m()\u001b[0m\n\u001b[1;32m    102\u001b[0m \u001b[0;34m\u001b[0m\u001b[0m\n\u001b[1;32m    103\u001b[0m     \u001b[0;32mfor\u001b[0m \u001b[0martist_name\u001b[0m\u001b[0;34m,\u001b[0m \u001b[0mspotify_link\u001b[0m \u001b[0;32min\u001b[0m \u001b[0martist_info\u001b[0m\u001b[0;34m:\u001b[0m\u001b[0;34m\u001b[0m\u001b[0;34m\u001b[0m\u001b[0m\n\u001b[0;32m--> 104\u001b[0;31m         \u001b[0mtime\u001b[0m\u001b[0;34m.\u001b[0m\u001b[0msleep\u001b[0m\u001b[0;34m(\u001b[0m\u001b[0;36m1\u001b[0m\u001b[0;34m)\u001b[0m  \u001b[0;31m# サーバーに負荷をかけない\u001b[0m\u001b[0;34m\u001b[0m\u001b[0;34m\u001b[0m\u001b[0m\n\u001b[0m\u001b[1;32m    105\u001b[0m         \u001b[0martist_id\u001b[0m \u001b[0;34m=\u001b[0m \u001b[0mextract_spotify_id\u001b[0m\u001b[0;34m(\u001b[0m\u001b[0mspotify_link\u001b[0m\u001b[0;34m)\u001b[0m\u001b[0;34m\u001b[0m\u001b[0;34m\u001b[0m\u001b[0m\n\u001b[1;32m    106\u001b[0m         \u001b[0;32mtry\u001b[0m\u001b[0;34m:\u001b[0m\u001b[0;34m\u001b[0m\u001b[0;34m\u001b[0m\u001b[0m\n",
            "\u001b[0;31mKeyboardInterrupt\u001b[0m: "
          ]
        }
      ]
    }
  ]
}